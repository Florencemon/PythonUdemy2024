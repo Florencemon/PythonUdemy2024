{
  "nbformat": 4,
  "nbformat_minor": 0,
  "metadata": {
    "colab": {
      "provenance": [],
      "authorship_tag": "ABX9TyNDB/I+4orxQ153/6nN6XnP",
      "include_colab_link": true
    },
    "kernelspec": {
      "name": "python3",
      "display_name": "Python 3"
    },
    "language_info": {
      "name": "python"
    }
  },
  "cells": [
    {
      "cell_type": "markdown",
      "metadata": {
        "id": "view-in-github",
        "colab_type": "text"
      },
      "source": [
        "<a href=\"https://colab.research.google.com/github/Florencemon/PythonUdemy2024/blob/main/10_ejercicios_Python.ipynb\" target=\"_parent\"><img src=\"https://colab.research.google.com/assets/colab-badge.svg\" alt=\"Open In Colab\"/></a>"
      ]
    },
    {
      "cell_type": "code",
      "execution_count": null,
      "metadata": {
        "id": "c7XrI9Bgc19C"
      },
      "outputs": [],
      "source": [
        "\"\"\"\n",
        "Instrucciones de la tarea:\n",
        "El objetivo del ejercicio es crear un sistema de calificaciones, como sigue:\n",
        "El usuario proporcionará un valor entre 0 y 10.\n",
        "Si está entre 9 y 10: imprimir una A\n",
        "Si está entre 8 y menor a 9: imprimir una B\n",
        "Si está entre 7 y menor a 8: imprimir una C\n",
        "Si está entre 6 y menor a 7: imprimir una D\n",
        "Si está entre 0 y menor a 6: imprimir una F\n",
        "cualquier otro valor debe imprimir: Valor incorrecto\n",
        "Por ejemplo:\n",
        "Proporciona un valor entre 0 y 10:\n",
        "A\n",
        "\"\"\"\n",
        "\n",
        "\n",
        "calificacion =int(input(\"Proporcione su calificacion entre 0 y 10:\"))\n",
        "\n",
        "if calificacion >=9 and calificacion <=10:\n",
        "    print(f\"Como su calificacion es {calificacion}, tiene un A\")\n",
        "elif calificacion >=8 and calificacion <9:\n",
        "    print(f\"Como su calificacion es {calificacion}, tiene un B\")\n",
        "elif calificacion >=7 and calificacion <8:\n",
        "    print(f\"Como su calificacion es {calificacion}, tiene un C\")\n",
        "elif calificacion >=6 and calificacion <7:\n",
        "    print(f\"Como su calificacion es {calificacion}, tiene un D\")\n",
        "elif calificacion >=0 and calificacion <6:\n",
        "    print(f\"Como su calificacion es {calificacion}, tiene un F\")\n",
        "else: print(\"Valor incorrecto\")\n"
      ]
    },
    {
      "cell_type": "code",
      "source": [
        "#CALCULADORA\n",
        "\n",
        "def suma (a,b):\n",
        "    z= a+b\n",
        "    return z\n",
        "\n",
        "def resta (a,b):\n",
        "    z= a-b\n",
        "    return z\n",
        "\n",
        "\n",
        "def multiplicacion (a,b):\n",
        "    z= a*b\n",
        "    return z\n",
        "\n",
        "def division (a,b):\n",
        "    z= a/b\n",
        "    return z\n",
        "\n",
        "\n",
        "a=int(input(\"diga un numero: \"))\n",
        "b=int(input(\"diga otro numero: \"))\n",
        "\n",
        "calculo=int(input(\"que operación desea realizar? Seleccione un numero:\\n1.Suma\\n2.Resta\\n3.Multiplicación\\n4.División\\n\"))\n",
        "print(f\"Opcion elegida: {calculo}\")\n",
        "if calculo ==1:\n",
        "    resultado =suma(a,b)\n",
        "elif calculo==2:\n",
        "    resultado =resta(a,b)\n",
        "elif calculo==3:\n",
        "    resultado =multiplicacion(a,b)\n",
        "elif calculo==4:\n",
        "    if b==0:\n",
        "        b=int(input(\"no se puede dividir por 0, ingrese nuevamente un numero distinto de 0:\"))\n",
        "        resultado =division(a,b)\n",
        "else: print(\"Opción inválida\")\n",
        "\n",
        "\n",
        "print(f\"el resultado es {resultado}\")"
      ],
      "metadata": {
        "id": "1P4yA_ewSvUf"
      },
      "execution_count": null,
      "outputs": []
    }
  ]
}